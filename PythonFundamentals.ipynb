{
  "nbformat": 4,
  "nbformat_minor": 0,
  "metadata": {
    "colab": {
      "provenance": [],
      "authorship_tag": "ABX9TyOc41cHdb3R9lnMrnx/1btN",
      "include_colab_link": true
    },
    "kernelspec": {
      "name": "python3",
      "display_name": "Python 3"
    },
    "language_info": {
      "name": "python"
    }
  },
  "cells": [
    {
      "cell_type": "markdown",
      "metadata": {
        "id": "view-in-github",
        "colab_type": "text"
      },
      "source": [
        "<a href=\"https://colab.research.google.com/github/honestovicente/PLM-Elective-3-Lab/blob/main/PythonFundamentals.ipynb\" target=\"_parent\"><img src=\"https://colab.research.google.com/assets/colab-badge.svg\" alt=\"Open In Colab\"/></a>"
      ]
    },
    {
      "cell_type": "markdown",
      "source": [
        "Python Indentation"
      ],
      "metadata": {
        "id": "bU1NOrAvkSus"
      }
    },
    {
      "cell_type": "code",
      "execution_count": 28,
      "metadata": {
        "colab": {
          "base_uri": "https://localhost:8080/"
        },
        "id": "uXjtORiXkI7j",
        "outputId": "4605abfb-a3d7-4cdb-b98a-f626aecccd47"
      },
      "outputs": [
        {
          "output_type": "stream",
          "name": "stdout",
          "text": [
            "5 is greater than 2\n"
          ]
        }
      ],
      "source": [
        "x = 5\n",
        "y = 2\n",
        "\n",
        "if x > y:\n",
        "  print(f\"{x} is greater than {y}\")\n",
        "else:\n",
        "  print(f\"{x} is NOT greater than {y}\")"
      ]
    },
    {
      "cell_type": "markdown",
      "source": [
        "Python Comment"
      ],
      "metadata": {
        "id": "7mMLYwT3kamj"
      }
    },
    {
      "cell_type": "code",
      "source": [
        "print(\"Hello World\") # This is a python comment"
      ],
      "metadata": {
        "colab": {
          "base_uri": "https://localhost:8080/"
        },
        "id": "31-Uyti4kYhj",
        "outputId": "72bf4756-1dd2-4201-e8ce-0c643be834d8"
      },
      "execution_count": 1,
      "outputs": [
        {
          "output_type": "stream",
          "name": "stdout",
          "text": [
            "Hello World\n"
          ]
        }
      ]
    },
    {
      "cell_type": "markdown",
      "source": [
        "Python Variable"
      ],
      "metadata": {
        "id": "gu1Ql_bQkq7L"
      }
    },
    {
      "cell_type": "code",
      "source": [
        "z = 1\n",
        "z, s = 0, -1\n",
        "z, s, t = 8,9,10\n",
        "z\n",
        "s\n",
        "t"
      ],
      "metadata": {
        "colab": {
          "base_uri": "https://localhost:8080/"
        },
        "id": "XIHu6UoekpD8",
        "outputId": "ad20d1d1-f14a-464c-920f-0ce675a12179"
      },
      "execution_count": 8,
      "outputs": [
        {
          "output_type": "execute_result",
          "data": {
            "text/plain": [
              "10"
            ]
          },
          "metadata": {},
          "execution_count": 8
        }
      ]
    },
    {
      "cell_type": "code",
      "source": [
        "b = \"Sally\" # This is a string\n",
        "b = float(4)\n",
        "b"
      ],
      "metadata": {
        "colab": {
          "base_uri": "https://localhost:8080/"
        },
        "id": "t9d6QcrtmSNS",
        "outputId": "ab3e9054-5ead-4953-de09-d31e9f0fcfa3"
      },
      "execution_count": 12,
      "outputs": [
        {
          "output_type": "execute_result",
          "data": {
            "text/plain": [
              "4.0"
            ]
          },
          "metadata": {},
          "execution_count": 12
        }
      ]
    },
    {
      "cell_type": "markdown",
      "source": [
        "Type() function"
      ],
      "metadata": {
        "id": "h-q_qRxzmjl5"
      }
    },
    {
      "cell_type": "code",
      "source": [
        "print(type(b))"
      ],
      "metadata": {
        "colab": {
          "base_uri": "https://localhost:8080/"
        },
        "id": "uAIx1h2emZAA",
        "outputId": "fce8fb10-a1ff-4781-e792-5f9812dafa00"
      },
      "execution_count": 13,
      "outputs": [
        {
          "output_type": "stream",
          "name": "stdout",
          "text": [
            "<class 'float'>\n"
          ]
        }
      ]
    },
    {
      "cell_type": "markdown",
      "source": [
        "Double Quotes and Single Quotes"
      ],
      "metadata": {
        "id": "RTt1b0eVnFMn"
      }
    },
    {
      "cell_type": "code",
      "source": [
        "w = \"Ana\"\n",
        "print(w)\n",
        "q = 'Ana'\n",
        "print(q)"
      ],
      "metadata": {
        "colab": {
          "base_uri": "https://localhost:8080/"
        },
        "id": "qyDR28xpnEzw",
        "outputId": "47dd0087-bbb0-46ff-80f7-53c1f5d0c50f"
      },
      "execution_count": 14,
      "outputs": [
        {
          "output_type": "stream",
          "name": "stdout",
          "text": [
            "Ana\n",
            "Ana\n"
          ]
        }
      ]
    },
    {
      "cell_type": "markdown",
      "source": [
        "Case Sensitive"
      ],
      "metadata": {
        "id": "X7wT54zsne1w"
      }
    },
    {
      "cell_type": "code",
      "source": [
        "a = int(4)\n",
        "A = \"Sally\"\n",
        "print(a)\n",
        "print(A)"
      ],
      "metadata": {
        "colab": {
          "base_uri": "https://localhost:8080/"
        },
        "id": "t-zq-iIOned4",
        "outputId": "a4d243e3-e68c-4b0d-9960-ff91217e6591"
      },
      "execution_count": 17,
      "outputs": [
        {
          "output_type": "stream",
          "name": "stdout",
          "text": [
            "4\n",
            "Sally\n"
          ]
        }
      ]
    },
    {
      "cell_type": "markdown",
      "source": [
        "Multiple Variables"
      ],
      "metadata": {
        "id": "tdNgT2_Cn2IP"
      }
    },
    {
      "cell_type": "code",
      "source": [
        "h, i, j = \"one\", \"two\", \"three\"\n",
        "print(h)\n",
        "print(i)\n",
        "print(j)"
      ],
      "metadata": {
        "colab": {
          "base_uri": "https://localhost:8080/"
        },
        "id": "jYcfRbOooJ6P",
        "outputId": "52442b32-645f-4764-9ea3-d2202f84bb77"
      },
      "execution_count": 18,
      "outputs": [
        {
          "output_type": "stream",
          "name": "stdout",
          "text": [
            "one\n",
            "two\n",
            "three\n"
          ]
        }
      ]
    },
    {
      "cell_type": "markdown",
      "source": [
        "Multiple Variables with Single Value"
      ],
      "metadata": {
        "id": "APvSt-qCoXu3"
      }
    },
    {
      "cell_type": "code",
      "source": [
        "k = l = m = \"four\"\n",
        "print(k)\n",
        "print(l)\n",
        "print(m)"
      ],
      "metadata": {
        "colab": {
          "base_uri": "https://localhost:8080/"
        },
        "id": "Gq5iVTHPoZxv",
        "outputId": "3701b516-0995-4b4c-e529-2b760f298d6a"
      },
      "execution_count": 22,
      "outputs": [
        {
          "output_type": "stream",
          "name": "stdout",
          "text": [
            "four\n",
            "four\n",
            "four\n"
          ]
        }
      ]
    },
    {
      "cell_type": "markdown",
      "source": [
        "Output Variable and Concatenation (+)"
      ],
      "metadata": {
        "id": "jp_UHblvpDKn"
      }
    },
    {
      "cell_type": "code",
      "source": [
        "n = \"enjoying\"\n",
        "m = \"Python programming is\"\n",
        "print(f\"{m} {n}\")\n",
        "print(m + \" \" + n)\n"
      ],
      "metadata": {
        "colab": {
          "base_uri": "https://localhost:8080/"
        },
        "id": "eOXegh8spG2m",
        "outputId": "800020ad-514b-4e0a-a234-ba46f3ba246a"
      },
      "execution_count": 27,
      "outputs": [
        {
          "output_type": "stream",
          "name": "stdout",
          "text": [
            "Python programming is enjoying\n",
            "Python programming is enjoying\n"
          ]
        }
      ]
    },
    {
      "cell_type": "markdown",
      "source": [
        "Arithmetic Operations"
      ],
      "metadata": {
        "id": "GqLu8JO6vks2"
      }
    },
    {
      "cell_type": "code",
      "source": [
        "print(x+y) # Addition\n",
        "print(x-y) # Subtraction\n",
        "print(x*y) # Multiplication\n",
        "print(x/y) # Division\n",
        "print(x//y) # Floor Division\n",
        "print(x%y) # Modulus"
      ],
      "metadata": {
        "colab": {
          "base_uri": "https://localhost:8080/"
        },
        "id": "_OSVPNkovkdP",
        "outputId": "a3db6c45-dedd-4088-dcf2-9ba67909383a"
      },
      "execution_count": 30,
      "outputs": [
        {
          "output_type": "stream",
          "name": "stdout",
          "text": [
            "7\n",
            "3\n",
            "10\n",
            "2.5\n",
            "2\n",
            "1\n"
          ]
        }
      ]
    },
    {
      "cell_type": "markdown",
      "source": [
        "Assignment Operator"
      ],
      "metadata": {
        "id": "apCug1P5w5qW"
      }
    },
    {
      "cell_type": "code",
      "source": [
        "x+=3 # Same as x = x + 3"
      ],
      "metadata": {
        "id": "xARuckR7w7Nu"
      },
      "execution_count": null,
      "outputs": []
    },
    {
      "cell_type": "markdown",
      "source": [
        "Comparison Operator"
      ],
      "metadata": {
        "id": "FAjCFQfExLlc"
      }
    },
    {
      "cell_type": "code",
      "source": [
        "print(x == y) # x, y = 5, 2\n",
        "print(x != y)\n",
        "print(x > y)\n",
        "print(x < y)"
      ],
      "metadata": {
        "colab": {
          "base_uri": "https://localhost:8080/"
        },
        "id": "NoGhFYE5xN90",
        "outputId": "fccea042-cdb9-43be-cc9d-33da9fadce3f"
      },
      "execution_count": 32,
      "outputs": [
        {
          "output_type": "stream",
          "name": "stdout",
          "text": [
            "False\n",
            "True\n",
            "True\n",
            "False\n"
          ]
        }
      ]
    },
    {
      "cell_type": "markdown",
      "source": [
        "Logical Operators"
      ],
      "metadata": {
        "id": "1IIkmzS2yGI1"
      }
    },
    {
      "cell_type": "code",
      "source": [
        "print(x == y and x != y) # false and true\n",
        "print(x == y or x != y)\n",
        "print(not(x == y or x != y))"
      ],
      "metadata": {
        "colab": {
          "base_uri": "https://localhost:8080/"
        },
        "id": "W48kVXlqyH_V",
        "outputId": "23abbd96-d8ef-4c57-c286-a217f17b24c1"
      },
      "execution_count": 34,
      "outputs": [
        {
          "output_type": "stream",
          "name": "stdout",
          "text": [
            "False\n",
            "True\n",
            "False\n"
          ]
        }
      ]
    },
    {
      "cell_type": "markdown",
      "source": [
        "Identity Operators"
      ],
      "metadata": {
        "id": "moksB78gy8Is"
      }
    },
    {
      "cell_type": "code",
      "source": [
        "print(x is y) # x == y\n",
        "print(x is not y) # x != y"
      ],
      "metadata": {
        "colab": {
          "base_uri": "https://localhost:8080/"
        },
        "id": "QcOj9o0Ty-AM",
        "outputId": "8b2780db-b3dc-4ae7-f037-3253ab9b8fba"
      },
      "execution_count": 37,
      "outputs": [
        {
          "output_type": "stream",
          "name": "stdout",
          "text": [
            "False\n",
            "True\n"
          ]
        }
      ]
    },
    {
      "cell_type": "markdown",
      "source": [
        "Bitwise Operators"
      ],
      "metadata": {
        "id": "Jwz049G41Yi4"
      }
    },
    {
      "cell_type": "code",
      "source": [
        "print(10| 1)\n",
        "print(x>>1)"
      ],
      "metadata": {
        "colab": {
          "base_uri": "https://localhost:8080/"
        },
        "id": "jD1hH5FU1Ytg",
        "outputId": "af011f6f-b03b-4223-b1d2-761b05eff8b1"
      },
      "execution_count": 38,
      "outputs": [
        {
          "output_type": "stream",
          "name": "stdout",
          "text": [
            "11\n",
            "2\n"
          ]
        }
      ]
    },
    {
      "cell_type": "markdown",
      "source": [
        "Application"
      ],
      "metadata": {
        "id": "XWxH_YXq2JpI"
      }
    },
    {
      "cell_type": "code",
      "source": [
        "#Create a Python program that displays your Fullname, Age, and Course and Section\n",
        "\n",
        "firstName = \"Honesto\"\n",
        "middleInitial = \"E.\"\n",
        "lastName = \"Vicente\"\n",
        "\n",
        "age = \"22\"\n",
        "course = \"BSCpE\"\n",
        "section = \"PLM-Elective-3-Lab\"\n",
        "\n",
        "print(f\"Full name: {lastName}, {firstName} {middleInitial}\")\n",
        "print(f\"      Age: {age} \")\n",
        "print(f\"   Course: {course}\")\n",
        "print(f\"  Section: {section}\")"
      ],
      "metadata": {
        "colab": {
          "base_uri": "https://localhost:8080/"
        },
        "id": "vHDKs2wN2Krw",
        "outputId": "b00dd8a0-db0d-4cd1-9383-6eb6903480e7"
      },
      "execution_count": 41,
      "outputs": [
        {
          "output_type": "stream",
          "name": "stdout",
          "text": [
            "Full name: Vicente, Honesto E.\n",
            "      Age: 22 \n",
            "   Course: BSCpE\n",
            "  Section: PLM-Elective-3-Lab\n"
          ]
        }
      ]
    }
  ]
}